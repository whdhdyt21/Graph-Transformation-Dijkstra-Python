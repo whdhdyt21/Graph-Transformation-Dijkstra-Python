{
  "cells": [
    {
      "cell_type": "code",
      "execution_count": null,
      "metadata": {
        "colab": {
          "background_save": true,
          "base_uri": "https://localhost:8080/",
          "height": 1000
        },
        "id": "rI8ER6OSEahH",
        "outputId": "cebeb9ac-e2b2-4f73-c8d0-cf229119766e"
      },
      "outputs": [
        {
          "data": {
            "image/png": "[encoded data removed]",
            "text/plain": [
              "<Figure size 640x480 with 1 Axes>"
            ]
          },
          "metadata": {},
          "output_type": "display_data"
        },
        {
          "name": "stdout",
          "output_type": "stream",
          "text": [
            "\n",
            "Pilihan Menu:\n",
            "1. Rute Terdekat\n",
            "2. Ubah Bobot Edge\n",
            "3. Informasi Graf\n",
            "4. Matriks Adjacency\n",
            "5. Matriks Incidence\n",
            "6. Keluar\n",
            "Matriks Incidence:\n",
            "[[-1.]\n",
            " [ 1.]]\n"
          ]
        },
        {
          "data": {
            "image/png": "[encoded data removed]",
            "text/plain": [
              "<Figure size 640x480 with 1 Axes>"
            ]
          },
          "metadata": {},
          "output_type": "display_data"
        },
        {
          "name": "stdout",
          "output_type": "stream",
          "text": [
            "\n",
            "Pilihan Menu:\n",
            "1. Rute Terdekat\n",
            "2. Ubah Bobot Edge\n",
            "3. Informasi Graf\n",
            "4. Matriks Adjacency\n",
            "5. Matriks Incidence\n",
            "6. Keluar\n"
          ]
        }
      ],
      "source": [
        "import networkx as nx\n",
        "import matplotlib.pyplot as plt\n",
        "\n",
        "def shortest_path(graph, start, end):\n",
        "    try:\n",
        "        path = nx.shortest_path(graph, source=start, target=end, weight='distance', method='dijkstra')\n",
        "        distance = nx.shortest_path_length(graph, source=start, target=end, weight='distance', method='dijkstra')\n",
        "        print(f\"Rute terdekat dari titik {start} ke titik {end}: {path}\")\n",
        "        print(f\"Jarak: {distance}\")\n",
        "    except nx.NetworkXNoPath:\n",
        "        print(f\"Tidak ada rute dari titik {start} ke titik {end}\")\n",
        "\n",
        "def change_edge_weight(graph):\n",
        "    edge = tuple(map(int, input(\"Masukkan edge yang ingin diubah bobotnya (misal, 1 2): \").split()))\n",
        "    if graph.has_edge(*edge):\n",
        "        try:\n",
        "            new_weight = float(input(\"Masukkan bobot baru: \"))\n",
        "            graph[edge[0]][edge[1]]['distance'] = new_weight\n",
        "            print(f\"Bobot edge {edge} berhasil diubah.\")\n",
        "        except ValueError:\n",
        "            print(\"Input tidak valid. Harap masukkan angka.\")\n",
        "    else:\n",
        "        print(f\"Edge {edge} tidak ditemukan.\")\n",
        "\n",
        "def display_adjacency_matrix(graph):\n",
        "    adjacency_matrix = nx.adjacency_matrix(graph).todense()\n",
        "    print(\"Matriks Adjacency:\")\n",
        "    print(adjacency_matrix)\n",
        "\n",
        "def display_incidence_matrix(graph):\n",
        "    incidence_matrix = nx.incidence_matrix(graph, oriented=True).todense()\n",
        "    print(\"Matriks Incidence:\")\n",
        "    print(incidence_matrix)\n",
        "\n",
        "# Input jumlah node dari pengguna\n",
        "try:\n",
        "    num_nodes = int(input(\"Masukkan jumlah node: \"))\n",
        "except ValueError:\n",
        "    print(\"Input tidak valid. Harap masukkan angka.\")\n",
        "    exit()\n",
        "\n",
        "# Input node dari pengguna\n",
        "try:\n",
        "    nodes = list(map(int, input(\"Masukkan node (pisahkan dengan spasi): \").split()))\n",
        "except ValueError:\n",
        "    print(\"Input tidak valid. Harap masukkan angka.\")\n",
        "    exit()\n",
        "\n",
        "# Buat graf\n",
        "G = nx.Graph()\n",
        "\n",
        "# Tambahkan node\n",
        "G.add_nodes_from(nodes)\n",
        "\n",
        "# Input edge dan atribut jarak dari pengguna\n",
        "edges_with_distances = []\n",
        "try:\n",
        "    num_edges = int(input(\"Masukkan jumlah edge: \"))\n",
        "except ValueError:\n",
        "    print(\"Input tidak valid. Harap masukkan angka.\")\n",
        "    exit()\n",
        "\n",
        "for i in range(num_edges):\n",
        "    try:\n",
        "        edge = tuple(map(int, input(f\"Masukkan edge ke-{i + 1} (misal, 1 2): \").split()))\n",
        "        distance = float(input(f\"Masukkan jarak untuk edge {edge}: \"))\n",
        "        edges_with_distances.append((*edge, {'distance': distance}))\n",
        "    except ValueError:\n",
        "        print(\"Input tidak valid. Harap masukkan angka.\")\n",
        "        exit()\n",
        "\n",
        "# Tambahkan edge dengan atribut jarak\n",
        "G.add_edges_from(edges_with_distances)\n",
        "\n",
        "# Visualisasikan graf dengan jarak ditampilkan\n",
        "pos = nx.spring_layout(G)  # Menentukan posisi node\n",
        "\n",
        "while True:\n",
        "    nx.draw(G, pos, with_labels=True, font_weight='bold', node_size=700, node_color='skyblue', font_size=8, font_color='black', edge_color='gray')\n",
        "\n",
        "    # Menambahkan label jarak pada setiap edge\n",
        "    labels = nx.get_edge_attributes(G, 'distance')\n",
        "    nx.draw_networkx_edge_labels(G, pos, edge_labels=labels)\n",
        "\n",
        "    plt.show()\n",
        "\n",
        "    # Pilihan menu switch case\n",
        "    print(\"\\nPilihan Menu:\")\n",
        "    print(\"1. Rute Terdekat\")\n",
        "    print(\"2. Ubah Bobot Edge\")\n",
        "    print(\"3. Informasi Graf\")\n",
        "    print(\"4. Matriks Adjacency\")\n",
        "    print(\"5. Matriks Incidence\")\n",
        "    print(\"6. Keluar\")\n",
        "\n",
        "    choice = input(\"Masukkan nomor menu yang dipilih: \")\n",
        "\n",
        "    if choice == '1':\n",
        "        start_node = int(input(\"Masukkan titik awal: \"))\n",
        "        end_node = int(input(\"Masukkan titik tujuan: \"))\n",
        "        shortest_path(G, start_node, end_node)\n",
        "    elif choice == '2':\n",
        "        change_edge_weight(G)\n",
        "    elif choice == '3':\n",
        "        print(f\"Informasi Graf:\")\n",
        "        print(f\"Jumlah Node: {G.number_of_nodes()}\")\n",
        "        print(f\"Jumlah Edge: {G.number_of_edges()}\")\n",
        "    elif choice == '4':\n",
        "        display_adjacency_matrix(G)\n",
        "    elif choice == '5':\n",
        "        display_incidence_matrix(G)\n",
        "    elif choice == '6':\n",
        "        print(\"Semoga Harimu Menyenangkan :)\")\n",
        "        break\n",
        "    else:\n",
        "        print(\"Pilihan tidak valid. Silakan pilih kembali.\")\n"
      ]
    }
  ],
  "metadata": {
    "colab": {
      "provenance": []
    },
    "kernelspec": {
      "display_name": "Python 3",
      "name": "python3"
    },
    "language_info": {
      "name": "python"
    }
  },
  "nbformat": 4,
  "nbformat_minor": 0
}